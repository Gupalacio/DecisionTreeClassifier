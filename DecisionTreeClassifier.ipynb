{
 "cells": [
  {
   "cell_type": "code",
   "execution_count": 9,
   "metadata": {},
   "outputs": [],
   "source": [
    "import pandas as pd\n",
    "import numpy as np\n",
    "import seaborn as sns\n",
    "import matplotlib.pyplot as plt\n",
    "from sklearn.model_selection import train_test_split\n",
    "from sklearn import metrics\n",
    "from sklearn.ensemble import RandomForestClassifier\n",
    "from sklearn.model_selection import cross_val_score\n",
    "from sklearn.metrics import plot_confusion_matrix\n",
    "from sklearn.metrics import confusion_matrix, ConfusionMatrixDisplay\n",
    "from sklearn.tree import DecisionTreeClassifier, plot_tree\n",
    "from sklearn.metrics import accuracy_score\n",
    "from scipy.stats import ks_2samp\n",
    "import category_encoders as ce\n",
    "%matplotlib inline"
   ]
  },
  {
   "cell_type": "markdown",
   "metadata": {},
   "source": [
    "Lendo o DataFrame, organizando as colunas e separando as bases de teste e treino"
   ]
  },
  {
   "cell_type": "code",
   "execution_count": 2,
   "metadata": {},
   "outputs": [],
   "source": [
    "#Lendo o dataframe e separando as colunas\n",
    "\n",
    "car = pd.read_csv(\"car_evaluation.csv\", header=None)\n",
    "\n",
    "col_names = ['buying', 'maint', 'doors', 'persons', 'lug_boot', 'safety', 'class']\n",
    "car.columns = col_names\n",
    "\n",
    "X = car.drop(['class'], axis=1).copy()\n",
    "y = car['class'].copy()\n",
    "\n",
    "#Separação do dataframe em treino e teste\n",
    "X_train, X_test, y_train, y_test = train_test_split(X, y, test_size = 0.33)\n",
    "\n",
    "#Transformação das variáveis em contínuas e não mais em categóricas\n",
    "encoder = ce.OrdinalEncoder(cols=['buying', 'maint', 'doors', 'persons', 'lug_boot', 'safety'])\n",
    "X_train = encoder.fit_transform(X_train)\n",
    "X_test = encoder.transform(X_test)"
   ]
  },
  {
   "cell_type": "markdown",
   "metadata": {},
   "source": [
    "Treinando a primeira arvore sem nenhum argumento"
   ]
  },
  {
   "cell_type": "code",
   "execution_count": 3,
   "metadata": {},
   "outputs": [
    {
     "name": "stdout",
     "output_type": "stream",
     "text": [
      "Acurácia do modelo: 93.87%\n"
     ]
    }
   ],
   "source": [
    "#Criação do primeiro modelo de arvore de decisão, sem nenhum tunning\n",
    "clf = DecisionTreeClassifier()\n",
    "clf.fit(X_train, y_train)\n",
    "predictions = clf.predict(X_test)\n",
    "score = accuracy_score(y_test, predictions)\n",
    "print(f\"Acurácia do modelo: {round(score *100, 2)}%\")"
   ]
  },
  {
   "cell_type": "markdown",
   "metadata": {},
   "source": [
    "### Tunning do modelo"
   ]
  },
  {
   "cell_type": "code",
   "execution_count": 35,
   "metadata": {},
   "outputs": [
    {
     "name": "stdout",
     "output_type": "stream",
     "text": [
      "Acurácia dos modelos: 69.7%, com o max_deth = 1\n",
      "Acurácia dos modelos: 77.06%, com o max_deth = 2\n",
      "Acurácia dos modelos: 80.91%, com o max_deth = 3\n",
      "Acurácia dos modelos: 80.04%, com o max_deth = 4\n",
      "Acurácia dos modelos: 83.01%, com o max_deth = 5\n",
      "Acurácia dos modelos: 87.92%, com o max_deth = 6\n",
      "Acurácia dos modelos: 88.44%, com o max_deth = 7\n",
      "Acurácia dos modelos: 93.17%, com o max_deth = 8\n",
      "Acurácia dos modelos: 93.35%, com o max_deth = 9\n",
      "Acurácia dos modelos: 95.1%, com o max_deth = 10\n",
      "Acurácia dos modelos: 95.1%, com o max_deth = 11\n",
      "Acurácia dos modelos: 95.45%, com o max_deth = 12\n",
      "Acurácia dos modelos: 95.1%, com o max_deth = 13\n",
      "Acurácia dos modelos: 95.1%, com o max_deth = 14\n",
      "Acurácia dos modelos: 95.27%, com o max_deth = 15\n",
      "Acurácia dos modelos: 95.45%, com o max_deth = 16\n",
      "Acurácia dos modelos: 95.62%, com o max_deth = 17\n",
      "Acurácia dos modelos: 94.75%, com o max_deth = 18\n",
      "Acurácia dos modelos: 94.92%, com o max_deth = 19\n",
      "Acurácia dos modelos: 95.1%, com o max_deth = 20\n",
      "Acurácia dos modelos: 94.4%, com o max_deth = 21\n",
      "Acurácia dos modelos: 94.4%, com o max_deth = 22\n",
      "Acurácia dos modelos: 94.75%, com o max_deth = 23\n",
      "Acurácia dos modelos: 93.87%, com o max_deth = 24\n",
      "Acurácia dos modelos: 93.17%, com o max_deth = 25\n",
      "Acurácia dos modelos: 93.17%, com o max_deth = 26\n",
      "Acurácia dos modelos: 93.87%, com o max_deth = 27\n",
      "Acurácia dos modelos: 94.22%, com o max_deth = 28\n",
      "Acurácia dos modelos: 93.7%, com o max_deth = 29\n",
      "Acurácia dos modelos: 93.35%, com o max_deth = 30\n",
      "Acurácia dos modelos: 92.99%, com o max_deth = 31\n",
      "Acurácia dos modelos: 92.64%, com o max_deth = 32\n",
      "Acurácia dos modelos: 93.17%, com o max_deth = 33\n",
      "Acurácia dos modelos: 92.82%, com o max_deth = 34\n",
      "Acurácia dos modelos: 92.82%, com o max_deth = 35\n",
      "Acurácia dos modelos: 91.59%, com o max_deth = 36\n",
      "Acurácia dos modelos: 90.72%, com o max_deth = 37\n",
      "Acurácia dos modelos: 90.02%, com o max_deth = 38\n",
      "Acurácia dos modelos: 89.14%, com o max_deth = 39\n",
      "Acurácia dos modelos: 88.62%, com o max_deth = 40\n",
      "Acurácia dos modelos: 87.92%, com o max_deth = 41\n",
      "Acurácia dos modelos: 83.01%, com o max_deth = 42\n",
      "Acurácia dos modelos: 80.04%, com o max_deth = 43\n",
      "Acurácia dos modelos: 80.91%, com o max_deth = 44\n",
      "Acurácia dos modelos: 77.06%, com o max_deth = 45\n",
      "Acurácia dos modelos: 69.7%, com o max_deth = 46\n",
      "\n",
      "\n",
      "Número de nós da última arvore é 1 com ccp_alpha de 0.08931341703930606\n"
     ]
    }
   ],
   "source": [
    "#Encontrando os CCP_ALPHAS\n",
    "\n",
    "resultados = clf.cost_complexity_pruning_path(X_train, y_train)\n",
    "ccp_alphas, impurities = resultados['ccp_alphas'], resultados['impurities']\n",
    "\n",
    "\n",
    "clfs = []\n",
    "n = 1\n",
    "for ccp_alpha in ccp_alphas:\n",
    "    clf = DecisionTreeClassifier(ccp_alpha=ccp_alpha, max_depth=n)\n",
    "    clf.fit(X_train, y_train)\n",
    "    #Predicted values\n",
    "\n",
    "    predict_values = clf.predict(X_test)\n",
    "    score = accuracy_score(y_test, predict_values)\n",
    "    print(f\"Acurácia dos modelos: {round(score * 100, 2)}%, com o max_deth = {n}\")\n",
    "    \n",
    "    clfs.append(clf)\n",
    "\n",
    "    n += 1\n",
    "\n",
    "print('\\n')\n",
    "print(f\"Número de nós da última arvore é {clfs[-1].tree_.node_count} com ccp_alpha de {ccp_alphas[-1]}\")"
   ]
  },
  {
   "cell_type": "markdown",
   "metadata": {},
   "source": [
    "Puxando o menor ccp para usarmos em nossa arvore"
   ]
  },
  {
   "cell_type": "code",
   "execution_count": 5,
   "metadata": {},
   "outputs": [],
   "source": [
    "ccp_alphas_filtered = ccp_alphas[ccp_alphas != 0]\n",
    "ccp_min = ccp_alphas_filtered[impurities[ccp_alphas != 0].argmin()]"
   ]
  },
  {
   "cell_type": "markdown",
   "metadata": {},
   "source": [
    "Treinando o modelo novamente"
   ]
  },
  {
   "cell_type": "code",
   "execution_count": 31,
   "metadata": {},
   "outputs": [],
   "source": [
    "#Rodando o modelo com o ccp_alpha mínimo\n",
    "\n",
    "clf = DecisionTreeClassifier(max_depth=10, ccp_alpha=ccp_min, min_samples_split=2)\n",
    "clf.fit(X_train, y_train)\n",
    "predict = clf.predict(X_test)"
   ]
  },
  {
   "cell_type": "markdown",
   "metadata": {},
   "source": [
    "Resultado final"
   ]
  },
  {
   "cell_type": "code",
   "execution_count": 32,
   "metadata": {},
   "outputs": [
    {
     "name": "stdout",
     "output_type": "stream",
     "text": [
      "Acurácia do modelo: 95.1%\n"
     ]
    }
   ],
   "source": [
    "score = accuracy_score(y_test, predict)\n",
    "print(f\"Acurácia do modelo: {round(score * 100, 2)}%\")"
   ]
  },
  {
   "cell_type": "markdown",
   "metadata": {},
   "source": [
    "Valores a serem preditos: 'unacc', 'acc', 'vgood', 'good'"
   ]
  },
  {
   "cell_type": "markdown",
   "metadata": {},
   "source": [
    "Matrix de confusão"
   ]
  },
  {
   "cell_type": "code",
   "execution_count": 33,
   "metadata": {},
   "outputs": [
    {
     "data": {
      "image/png": "[encoded data removed]",
      "text/plain": [
       "<Figure size 432x288 with 2 Axes>"
      ]
     },
     "metadata": {
      "needs_background": "light"
     },
     "output_type": "display_data"
    },
    {
     "name": "stdout",
     "output_type": "stream",
     "text": [
      "Acurácia DecisionTreeClassifier: 95.1%\n"
     ]
    }
   ],
   "source": [
    "cm = confusion_matrix(y_test, predict)\n",
    "disp = ConfusionMatrixDisplay(confusion_matrix=cm)\n",
    "disp.plot()\n",
    "plt.show()\n",
    "print(f\"Acurácia DecisionTreeClassifier: {(accuracy_score(y_test, predict) * 100).round(2)}%\")"
   ]
  },
  {
   "cell_type": "code",
   "execution_count": null,
   "metadata": {},
   "outputs": [],
   "source": []
  }
 ],
 "metadata": {
  "kernelspec": {
   "display_name": "Python 3",
   "language": "python",
   "name": "python3"
  },
  "language_info": {
   "codemirror_mode": {
    "name": "ipython",
    "version": 3
   },
   "file_extension": ".py",
   "mimetype": "text/x-python",
   "name": "python",
   "nbconvert_exporter": "python",
   "pygments_lexer": "ipython3",
   "version": "3.10.5"
  },
  "orig_nbformat": 4
 },
 "nbformat": 4,
 "nbformat_minor": 2
}
